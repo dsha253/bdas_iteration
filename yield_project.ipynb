{
 "cells": [
  {
   "cell_type": "code",
   "execution_count": 1,
   "metadata": {},
   "outputs": [],
   "source": [
    "import findspark\n",
    "findspark.init('/home/ubuntu/spark-2.1.1-bin-hadoop2.7')\n",
    "import pyspark\n",
    "from pyspark.sql import SparkSession\n",
    "spark = SparkSession.builder.appName('initiate').getOrCreate()"
   ]
  },
  {
   "cell_type": "code",
   "execution_count": 2,
   "metadata": {},
   "outputs": [],
   "source": [
    "from pyspark.sql.functions import isnull, col, count, when, expr"
   ]
  },
  {
   "cell_type": "code",
   "execution_count": 3,
   "metadata": {},
   "outputs": [],
   "source": [
    "from pyspark.ml.classification import LogisticRegression"
   ]
  },
  {
   "cell_type": "code",
   "execution_count": 4,
   "metadata": {},
   "outputs": [],
   "source": [
    "from pyspark.ml.feature import (VectorAssembler,VectorIndexer,OneHotEncoder,StringIndexer)"
   ]
  },
  {
   "cell_type": "code",
   "execution_count": 5,
   "metadata": {},
   "outputs": [],
   "source": [
    "from pyspark.ml import Pipeline"
   ]
  },
  {
   "cell_type": "code",
   "execution_count": 6,
   "metadata": {},
   "outputs": [],
   "source": [
    "from pyspark.ml.linalg import Vectors\n",
    "from pyspark.ml.feature import VectorAssembler"
   ]
  },
  {
   "cell_type": "code",
   "execution_count": 7,
   "metadata": {},
   "outputs": [],
   "source": [
    "from pyspark.ml.regression import LinearRegression"
   ]
  },
  {
   "cell_type": "code",
   "execution_count": 8,
   "metadata": {},
   "outputs": [],
   "source": [
    "from pyspark.sql.types import DoubleType, IntegerType"
   ]
  },
  {
   "cell_type": "code",
   "execution_count": 9,
   "metadata": {},
   "outputs": [],
   "source": [
    "from pyspark.sql.functions import monotonically_increasing_id"
   ]
  },
  {
   "cell_type": "code",
   "execution_count": 10,
   "metadata": {},
   "outputs": [
    {
     "name": "stdout",
     "output_type": "stream",
     "text": [
      "root\n",
      " |-- ID: integer (nullable = true)\n",
      " |-- State_Name: string (nullable = true)\n",
      " |-- District_Name: string (nullable = true)\n",
      " |-- Crop_Year: integer (nullable = true)\n",
      " |-- Season: string (nullable = true)\n",
      " |-- Crop: string (nullable = true)\n",
      " |-- Area: integer (nullable = true)\n",
      " |-- Production: integer (nullable = true)\n",
      "\n"
     ]
    }
   ],
   "source": [
    "prod_df = spark.read.csv('Iteration 4/Production.csv', inferSchema=True, header=True)\n",
    "prod_df.printSchema()"
   ]
  },
  {
   "cell_type": "code",
   "execution_count": 11,
   "metadata": {},
   "outputs": [
    {
     "name": "stdout",
     "output_type": "stream",
     "text": [
      "+---+--------------+-------------+---------+------+------------+-----+----------+\n",
      "| ID|    State_Name|District_Name|Crop_Year|Season|        Crop| Area|Production|\n",
      "+---+--------------+-------------+---------+------+------------+-----+----------+\n",
      "|  1|Andhra Pradesh|    ANANTAPUR|     1997|Kharif|Cotton(lint)| 7300|      9400|\n",
      "|  2|Andhra Pradesh|    ANANTAPUR|     1998|Kharif|Cotton(lint)|14000|     12900|\n",
      "|  3|Andhra Pradesh|    ANANTAPUR|     1999|Kharif|Cotton(lint)| 9453|     10510|\n",
      "|  4|Andhra Pradesh|    ANANTAPUR|     2000|Kharif|Cotton(lint)|12025|     16128|\n",
      "|  5|Andhra Pradesh|    ANANTAPUR|     2001|Kharif|Cotton(lint)| 8552|      9055|\n",
      "|  6|Andhra Pradesh|    ANANTAPUR|     2002|Kharif|Cotton(lint)| 7638|      7144|\n",
      "|  7|Andhra Pradesh|    ANANTAPUR|     2003|Kharif|Cotton(lint)| 4212|      4262|\n",
      "|  8|Andhra Pradesh|    ANANTAPUR|     2004|Kharif|Cotton(lint)| 8933|      7041|\n",
      "|  9|Andhra Pradesh|    ANANTAPUR|     2005|Kharif|Cotton(lint)| 3295|      3450|\n",
      "| 10|Andhra Pradesh|    ANANTAPUR|     2006|Kharif|Cotton(lint)| 1506|      1940|\n",
      "| 11|Andhra Pradesh|    ANANTAPUR|     2007|Kharif|Cotton(lint)| 3000|      2000|\n",
      "| 12|Andhra Pradesh|    ANANTAPUR|     2008|Kharif|Cotton(lint)| 1611|      1241|\n",
      "| 13|Andhra Pradesh|    ANANTAPUR|     2009|Kharif|Cotton(lint)| 2063|      1226|\n",
      "| 14|Andhra Pradesh|    ANANTAPUR|     2010|Kharif|Cotton(lint)| 4338|      2977|\n",
      "| 15|Andhra Pradesh|    ANANTAPUR|     2011|Kharif|Cotton(lint)|19299|     12069|\n",
      "| 16|Andhra Pradesh|    ANANTAPUR|     2012|Kharif|Cotton(lint)|27566|     35511|\n",
      "| 17|Andhra Pradesh|    ANANTAPUR|     2012|  Rabi|Cotton(lint)|   77|        99|\n",
      "| 18|Andhra Pradesh|    ANANTAPUR|     2013|Kharif|Cotton(lint)|37661|     77316|\n",
      "| 19|Andhra Pradesh|    ANANTAPUR|     2013|  Rabi|Cotton(lint)|   62|       127|\n",
      "| 20|Andhra Pradesh|    ANANTAPUR|     2014|Kharif|Cotton(lint)|73734|    103779|\n",
      "+---+--------------+-------------+---------+------+------------+-----+----------+\n",
      "only showing top 20 rows\n",
      "\n"
     ]
    }
   ],
   "source": [
    "prod_df.show()"
   ]
  },
  {
   "cell_type": "code",
   "execution_count": 12,
   "metadata": {},
   "outputs": [
    {
     "name": "stdout",
     "output_type": "stream",
     "text": [
      "root\n",
      " |-- ID: integer (nullable = true)\n",
      " |-- State_Name: string (nullable = true)\n",
      " |-- District_Name: string (nullable = true)\n",
      " |-- Crop_Year: integer (nullable = true)\n",
      " |-- rainfall: double (nullable = true)\n",
      "\n"
     ]
    }
   ],
   "source": [
    "rain_df = spark.read.csv('Iteration 4/Rainfall.csv', inferSchema=True, header=True)\n",
    "rain_df.printSchema()"
   ]
  },
  {
   "cell_type": "code",
   "execution_count": 13,
   "metadata": {},
   "outputs": [
    {
     "name": "stdout",
     "output_type": "stream",
     "text": [
      "+---+--------------+-------------+---------+--------+\n",
      "| ID|    State_Name|District_Name|Crop_Year|rainfall|\n",
      "+---+--------------+-------------+---------+--------+\n",
      "|  1|Andhra Pradesh|    ANANTAPUR|     1997|   683.2|\n",
      "|  2|Andhra Pradesh|    ANANTAPUR|     1998|   900.4|\n",
      "|  3|Andhra Pradesh|    ANANTAPUR|     1999|   582.2|\n",
      "|  4|Andhra Pradesh|    ANANTAPUR|     2000|   638.1|\n",
      "|  5|Andhra Pradesh|    ANANTAPUR|     2001|   676.9|\n",
      "|  6|Andhra Pradesh|    ANANTAPUR|     2002|   468.6|\n",
      "|  7|Andhra Pradesh|    ANANTAPUR|     2003|   782.5|\n",
      "|  8|Andhra Pradesh|    ANANTAPUR|     2004|   566.7|\n",
      "|  9|Andhra Pradesh|    ANANTAPUR|     2005|   953.5|\n",
      "| 10|Andhra Pradesh|    ANANTAPUR|     2006|   816.0|\n",
      "| 11|Andhra Pradesh|    ANANTAPUR|     2007|   760.2|\n",
      "| 12|Andhra Pradesh|    ANANTAPUR|     2008|   703.1|\n",
      "| 13|Andhra Pradesh|    ANANTAPUR|     2009|   548.9|\n",
      "| 14|Andhra Pradesh|    ANANTAPUR|     2010|  1002.0|\n",
      "| 15|Andhra Pradesh|    ANANTAPUR|     2011|   616.1|\n",
      "| 16|Andhra Pradesh|    ANANTAPUR|     2012|   829.6|\n",
      "| 17|Andhra Pradesh|    ANANTAPUR|     2012|   354.0|\n",
      "| 18|Andhra Pradesh|    ANANTAPUR|     2013|   829.0|\n",
      "| 19|Andhra Pradesh|    ANANTAPUR|     2013|   135.7|\n",
      "| 20|Andhra Pradesh|    ANANTAPUR|     2014|   135.7|\n",
      "+---+--------------+-------------+---------+--------+\n",
      "only showing top 20 rows\n",
      "\n"
     ]
    }
   ],
   "source": [
    "rain_df.show()"
   ]
  },
  {
   "cell_type": "code",
   "execution_count": 14,
   "metadata": {},
   "outputs": [
    {
     "data": {
      "text/plain": [
       "[Row(ID=1, State_Name='Andhra Pradesh', District_Name='ANANTAPUR', Crop_Year=1997, Season='Kharif', Crop='Cotton(lint)', Area=7300, Production=9400)]"
      ]
     },
     "execution_count": 14,
     "metadata": {},
     "output_type": "execute_result"
    }
   ],
   "source": [
    "prod_df.head(1)"
   ]
  },
  {
   "cell_type": "code",
   "execution_count": 15,
   "metadata": {},
   "outputs": [
    {
     "data": {
      "text/plain": [
       "[Row(ID=1, State_Name='Andhra Pradesh', District_Name='ANANTAPUR', Crop_Year=1997, rainfall=683.2)]"
      ]
     },
     "execution_count": 15,
     "metadata": {},
     "output_type": "execute_result"
    }
   ],
   "source": [
    "rain_df.head(1)"
   ]
  },
  {
   "cell_type": "code",
   "execution_count": 16,
   "metadata": {},
   "outputs": [
    {
     "name": "stdout",
     "output_type": "stream",
     "text": [
      "+--------------+------+\n",
      "|    State_Name|Season|\n",
      "+--------------+------+\n",
      "|Andhra Pradesh|Kharif|\n",
      "|Andhra Pradesh|  Rabi|\n",
      "+--------------+------+\n",
      "\n"
     ]
    }
   ],
   "source": [
    "prod_df.filter( (prod_df['State_Name'] == \"Andhra Pradesh\") ).select('State_Name','Season').distinct().show()"
   ]
  },
  {
   "cell_type": "code",
   "execution_count": 17,
   "metadata": {},
   "outputs": [
    {
     "name": "stdout",
     "output_type": "stream",
     "text": [
      "+----------+----------+\n",
      "|State_Name|    Season|\n",
      "+----------+----------+\n",
      "| Karnataka|    Kharif|\n",
      "| Karnataka|Whole Year|\n",
      "| Karnataka|      Rabi|\n",
      "| Karnataka|    Summer|\n",
      "+----------+----------+\n",
      "\n"
     ]
    }
   ],
   "source": [
    "prod_df.filter( (prod_df['State_Name'] == \"Karnataka\") ).select('State_Name','Season').distinct().show()"
   ]
  },
  {
   "cell_type": "code",
   "execution_count": 18,
   "metadata": {},
   "outputs": [
    {
     "name": "stdout",
     "output_type": "stream",
     "text": [
      "+----------+------+\n",
      "|State_Name|Season|\n",
      "+----------+------+\n",
      "|   Manipur|Winter|\n",
      "|   Manipur|Autumn|\n",
      "|   Manipur|  Rabi|\n",
      "|   Manipur|Kharif|\n",
      "+----------+------+\n",
      "\n"
     ]
    }
   ],
   "source": [
    "prod_df.filter( (prod_df['State_Name'] == \"Manipur\") ).select('State_Name','Season').distinct().show()"
   ]
  },
  {
   "cell_type": "code",
   "execution_count": 19,
   "metadata": {},
   "outputs": [
    {
     "name": "stdout",
     "output_type": "stream",
     "text": [
      "+----------+------+\n",
      "|State_Name|Season|\n",
      "+----------+------+\n",
      "| Meghalaya|  Rabi|\n",
      "| Meghalaya|Kharif|\n",
      "+----------+------+\n",
      "\n"
     ]
    }
   ],
   "source": [
    "prod_df.filter( (prod_df['State_Name'] == \"Meghalaya\") ).select('State_Name','Season').distinct().show()"
   ]
  },
  {
   "cell_type": "code",
   "execution_count": 20,
   "metadata": {},
   "outputs": [
    {
     "name": "stdout",
     "output_type": "stream",
     "text": [
      "+----------+----------+\n",
      "|State_Name|    Season|\n",
      "+----------+----------+\n",
      "|Tamil Nadu|      Rabi|\n",
      "|Tamil Nadu|    Kharif|\n",
      "|Tamil Nadu|Whole Year|\n",
      "+----------+----------+\n",
      "\n"
     ]
    }
   ],
   "source": [
    "prod_df.filter( (prod_df['State_Name'] == \"Tamil Nadu\") ).select('State_Name','Season').distinct().show()"
   ]
  },
  {
   "cell_type": "code",
   "execution_count": 21,
   "metadata": {},
   "outputs": [
    {
     "name": "stdout",
     "output_type": "stream",
     "text": [
      "+---------+\n",
      "|Crop_Year|\n",
      "+---------+\n",
      "|     1997|\n",
      "|     1998|\n",
      "|     1999|\n",
      "|     2000|\n",
      "|     2001|\n",
      "|     2002|\n",
      "|     2003|\n",
      "|     2004|\n",
      "|     2005|\n",
      "|     2006|\n",
      "|     2007|\n",
      "|     2008|\n",
      "|     2009|\n",
      "|     2010|\n",
      "|     2011|\n",
      "|     2012|\n",
      "|     2012|\n",
      "|     2013|\n",
      "|     2013|\n",
      "|     2014|\n",
      "+---------+\n",
      "only showing top 20 rows\n",
      "\n"
     ]
    }
   ],
   "source": [
    "prod_df.select(\"Crop_Year\").show()"
   ]
  },
  {
   "cell_type": "code",
   "execution_count": 22,
   "metadata": {},
   "outputs": [
    {
     "name": "stdout",
     "output_type": "stream",
     "text": [
      "+---------+------------------+\n",
      "|Crop_Year|   avg(Production)|\n",
      "+---------+------------------+\n",
      "|     1997|           27964.5|\n",
      "|     1998|28073.484848484848|\n",
      "|     1999|23154.415384615386|\n",
      "|     2000|28244.861538461537|\n",
      "|     2001|24275.723076923077|\n",
      "|     2002|13089.338709677419|\n",
      "|     2003|19461.532258064515|\n",
      "|     2004|29632.322580645163|\n",
      "|     2005|         22746.875|\n",
      "|     2006| 23080.06349206349|\n",
      "|     2007|30494.365079365078|\n",
      "|     2008| 32472.14285714286|\n",
      "|     2009| 27740.18181818182|\n",
      "|     2010|27549.060975609755|\n",
      "|     2011|23609.904761904763|\n",
      "|     2012|31676.644444444446|\n",
      "|     2013|37733.747899159665|\n",
      "|     2014| 74612.44117647059|\n",
      "+---------+------------------+\n",
      "\n"
     ]
    }
   ],
   "source": [
    "prod_df_summary = prod_df.groupBy(\"Crop_Year\").mean().select(['Crop_Year','avg(Production)'])\n",
    "prod_df_summary.orderBy('Crop_Year').show()"
   ]
  },
  {
   "cell_type": "code",
   "execution_count": 23,
   "metadata": {},
   "outputs": [
    {
     "data": {
      "text/plain": [
       "1048542"
      ]
     },
     "execution_count": 23,
     "metadata": {},
     "output_type": "execute_result"
    }
   ],
   "source": [
    "rain_df.count()"
   ]
  },
  {
   "cell_type": "code",
   "execution_count": 24,
   "metadata": {},
   "outputs": [
    {
     "data": {
      "text/plain": [
       "1032"
      ]
     },
     "execution_count": 24,
     "metadata": {},
     "output_type": "execute_result"
    }
   ],
   "source": [
    "rain_df.dropna().count()"
   ]
  },
  {
   "cell_type": "code",
   "execution_count": 25,
   "metadata": {},
   "outputs": [
    {
     "name": "stdout",
     "output_type": "stream",
     "text": [
      "+---+----------+-------------+---------+--------+\n",
      "| ID|State_Name|District_Name|Crop_Year|rainfall|\n",
      "+---+----------+-------------+---------+--------+\n",
      "|253| Karnataka|     BAGALKOT|     2005|    null|\n",
      "|254| Karnataka|     BAGALKOT|     2006|    null|\n",
      "|255| Karnataka|     BAGALKOT|     2007|    null|\n",
      "|256| Karnataka|     BAGALKOT|     2008|    null|\n",
      "|257| Karnataka|     BAGALKOT|     2009|    null|\n",
      "|277| Karnataka|      BELGAUM|     2005|    null|\n",
      "|278| Karnataka|      BELGAUM|     2006|    null|\n",
      "|279| Karnataka|      BELGAUM|     2007|    null|\n",
      "|280| Karnataka|      BELGAUM|     2008|    null|\n",
      "|281| Karnataka|      BELGAUM|     2009|    null|\n",
      "|301| Karnataka|      BELLARY|     2005|    null|\n",
      "|302| Karnataka|      BELLARY|     2006|    null|\n",
      "|303| Karnataka|      BELLARY|     2007|    null|\n",
      "|304| Karnataka|      BELLARY|     2008|    null|\n",
      "|305| Karnataka|      BELLARY|     2009|    null|\n",
      "|326| Karnataka|        BIDAR|     2005|    null|\n",
      "|327| Karnataka|        BIDAR|     2006|    null|\n",
      "|328| Karnataka|        BIDAR|     2007|    null|\n",
      "|329| Karnataka|        BIDAR|     2008|    null|\n",
      "|330| Karnataka|        BIDAR|     2009|    null|\n",
      "+---+----------+-------------+---------+--------+\n",
      "only showing top 20 rows\n",
      "\n"
     ]
    }
   ],
   "source": [
    "rain_df.filter((col(\"rainfall\").isNull())).show()"
   ]
  },
  {
   "cell_type": "code",
   "execution_count": 26,
   "metadata": {},
   "outputs": [],
   "source": [
    "columns_to_drop = ['State_Name', 'District_Name', 'Crop_Year']\n",
    "rain_df_formatted = rain_df.drop(*columns_to_drop)"
   ]
  },
  {
   "cell_type": "code",
   "execution_count": 27,
   "metadata": {},
   "outputs": [
    {
     "name": "stdout",
     "output_type": "stream",
     "text": [
      "+---+--------+\n",
      "| ID|rainfall|\n",
      "+---+--------+\n",
      "|  1|   683.2|\n",
      "|  2|   900.4|\n",
      "|  3|   582.2|\n",
      "|  4|   638.1|\n",
      "|  5|   676.9|\n",
      "+---+--------+\n",
      "only showing top 5 rows\n",
      "\n"
     ]
    }
   ],
   "source": [
    "rain_df_formatted.show(5, True)"
   ]
  },
  {
   "cell_type": "code",
   "execution_count": 28,
   "metadata": {},
   "outputs": [
    {
     "data": {
      "text/plain": [
       "1048542"
      ]
     },
     "execution_count": 28,
     "metadata": {},
     "output_type": "execute_result"
    }
   ],
   "source": [
    "rain_df_formatted.count()"
   ]
  },
  {
   "cell_type": "code",
   "execution_count": 29,
   "metadata": {},
   "outputs": [],
   "source": [
    "state_num_df = (prod_df.select(\"State_Name\").distinct()\n",
    "  .orderBy(\"State_Name\")\n",
    "  .withColumn(\"State_Number\", monotonically_increasing_id()))\n"
   ]
  },
  {
   "cell_type": "code",
   "execution_count": 30,
   "metadata": {},
   "outputs": [],
   "source": [
    "prod_new_df = prod_df.join(state_num_df, \"State_Name\", \"outer\")"
   ]
  },
  {
   "cell_type": "code",
   "execution_count": 31,
   "metadata": {},
   "outputs": [
    {
     "name": "stdout",
     "output_type": "stream",
     "text": [
      "+---------+------------+\n",
      "|Crop_Year|State_Number|\n",
      "+---------+------------+\n",
      "|     1997| 25769803776|\n",
      "|     1998| 25769803776|\n",
      "|     1999| 25769803776|\n",
      "|     2000| 25769803776|\n",
      "|     2001| 25769803776|\n",
      "|     2002| 25769803776|\n",
      "|     2003| 25769803776|\n",
      "|     2004| 25769803776|\n",
      "|     2005| 25769803776|\n",
      "|     2006| 25769803776|\n",
      "|     2007| 25769803776|\n",
      "|     2008| 25769803776|\n",
      "|     2009| 25769803776|\n",
      "|     2010| 25769803776|\n",
      "|     2011| 25769803776|\n",
      "|     2012| 25769803776|\n",
      "|     2013| 25769803776|\n",
      "|     2014| 25769803776|\n",
      "|     2013| 25769803776|\n",
      "|     2014| 25769803776|\n",
      "+---------+------------+\n",
      "only showing top 20 rows\n",
      "\n"
     ]
    }
   ],
   "source": [
    "prod_new_df.filter( (prod_new_df['State_Name'] == \"Meghalaya\") ).select('Crop_Year', 'State_Number').show()"
   ]
  },
  {
   "cell_type": "code",
   "execution_count": 32,
   "metadata": {},
   "outputs": [],
   "source": [
    "dist_num_df = (prod_new_df.select(\"District_Name\").distinct()\n",
    "  .orderBy(\"District_Name\")\n",
    "  .withColumn(\"District_Number\", monotonically_increasing_id()))"
   ]
  },
  {
   "cell_type": "code",
   "execution_count": 33,
   "metadata": {},
   "outputs": [],
   "source": [
    "prod_new_df = prod_new_df.join(dist_num_df, \"District_Name\", \"outer\")"
   ]
  },
  {
   "cell_type": "code",
   "execution_count": 34,
   "metadata": {},
   "outputs": [],
   "source": [
    "season_df = (prod_new_df.select(\"Season\").distinct()\n",
    "  .orderBy(\"Season\")\n",
    "  .withColumn(\"Season_Number\", monotonically_increasing_id()))"
   ]
  },
  {
   "cell_type": "code",
   "execution_count": 35,
   "metadata": {},
   "outputs": [],
   "source": [
    "prod_new_df = prod_new_df.join(season_df, \"Season\", \"outer\")"
   ]
  },
  {
   "cell_type": "code",
   "execution_count": 36,
   "metadata": {},
   "outputs": [
    {
     "name": "stdout",
     "output_type": "stream",
     "text": [
      "+------+---------------+--------------+----+---------+------------+----+----------+------------+---------------+-------------+\n",
      "|Season|  District_Name|    State_Name|  ID|Crop_Year|        Crop|Area|Production|State_Number|District_Number|Season_Number|\n",
      "+------+---------------+--------------+----+---------+------------+----+----------+------------+---------------+-------------+\n",
      "|  Rabi|   CHIKBALLAPUR|     Karnataka| 382|     2010|Cotton(lint)| 134|       291|  8589934592|    77309411328|  17179869184|\n",
      "|  Rabi|   CHIKBALLAPUR|     Karnataka| 384|     2011|Cotton(lint)|  60|       113|  8589934592|    77309411328|  17179869184|\n",
      "|  Rabi|         GUNTUR|Andhra Pradesh|  72|     2014|Cotton(lint)|  22|       115|           0|   223338299392|  17179869184|\n",
      "|  Rabi| CHAMARAJANAGAR|     Karnataka| 374|     2010|Cotton(lint)|  45|        98|  8589934592|    68719476736|  17179869184|\n",
      "|  Rabi| CHAMARAJANAGAR|     Karnataka| 376|     2011|Cotton(lint)|  60|       113|  8589934592|    68719476736|  17179869184|\n",
      "|  Rabi|TIRUCHIRAPPALLI|    Tamil Nadu|1147|     2011|Cotton(lint)| 317|       872| 34359738368|   549755813888|  17179869184|\n",
      "|  Rabi|TIRUCHIRAPPALLI|    Tamil Nadu|1150|     2013|Cotton(lint)| 190|       594| 34359738368|   549755813888|  17179869184|\n",
      "|  Rabi|    PUDUKKOTTAI|    Tamil Nadu|1006|     2011|Cotton(lint)|   1|         3| 34359738368|   412316860416|  17179869184|\n",
      "|  Rabi|    PUDUKKOTTAI|    Tamil Nadu|1009|     2013|Cotton(lint)|   1|         2| 34359738368|   412316860416|  17179869184|\n",
      "|  Rabi|    KRISHNAGIRI|    Tamil Nadu| 912|     2011|Cotton(lint)| 156|       429| 34359738368|   326417514496|  17179869184|\n",
      "|  Rabi|    KRISHNAGIRI|    Tamil Nadu| 915|     2013|Cotton(lint)| 170|       408| 34359738368|   326417514496|  17179869184|\n",
      "|  Rabi|    TIRUNELVELI|    Tamil Nadu|1166|     2011|Cotton(lint)|1055|      3063| 34359738368|   558345748480|  17179869184|\n",
      "|  Rabi|    TIRUNELVELI|    Tamil Nadu|1169|     2013|Cotton(lint)|2379|      1617| 34359738368|   558345748480|  17179869184|\n",
      "|  Rabi|   VIRUDHUNAGAR|    Tamil Nadu|1269|     2011|Cotton(lint)|4893|     11251| 34359738368|   627065225216|  17179869184|\n",
      "|  Rabi|   VIRUDHUNAGAR|    Tamil Nadu|1272|     2013|Cotton(lint)|5904|     14203| 34359738368|   627065225216|  17179869184|\n",
      "|  Rabi|      ANANTAPUR|Andhra Pradesh|  17|     2012|Cotton(lint)|  77|        99|           0|              0|  17179869184|\n",
      "|  Rabi|      ANANTAPUR|Andhra Pradesh|  19|     2013|Cotton(lint)|  62|       127|           0|              0|  17179869184|\n",
      "|  Rabi|      ANANTAPUR|Andhra Pradesh|  21|     2014|Cotton(lint)| 884|      1244|           0|              0|  17179869184|\n",
      "|  Rabi|        MADURAI|    Tamil Nadu| 931|     2011|Cotton(lint)|2317|      5476| 34359738368|   343597383680|  17179869184|\n",
      "|  Rabi|        MADURAI|    Tamil Nadu| 934|     2013|Cotton(lint)|2403|      3853| 34359738368|   343597383680|  17179869184|\n",
      "+------+---------------+--------------+----+---------+------------+----+----------+------------+---------------+-------------+\n",
      "only showing top 20 rows\n",
      "\n"
     ]
    }
   ],
   "source": [
    "prod_new_df.show()"
   ]
  },
  {
   "cell_type": "code",
   "execution_count": 37,
   "metadata": {},
   "outputs": [],
   "source": [
    "columns_for_drop = ['State_Name', 'District_Name', 'Season']\n",
    "prod_df_formatted = prod_new_df.drop(*columns_for_drop)"
   ]
  },
  {
   "cell_type": "code",
   "execution_count": 38,
   "metadata": {},
   "outputs": [
    {
     "name": "stdout",
     "output_type": "stream",
     "text": [
      "+----+---------+------------+----+----------+------------+---------------+-------------+\n",
      "|  ID|Crop_Year|        Crop|Area|Production|State_Number|District_Number|Season_Number|\n",
      "+----+---------+------------+----+----------+------------+---------------+-------------+\n",
      "| 382|     2010|Cotton(lint)| 134|       291|  8589934592|    77309411328|  17179869184|\n",
      "| 384|     2011|Cotton(lint)|  60|       113|  8589934592|    77309411328|  17179869184|\n",
      "|  72|     2014|Cotton(lint)|  22|       115|           0|   223338299392|  17179869184|\n",
      "| 374|     2010|Cotton(lint)|  45|        98|  8589934592|    68719476736|  17179869184|\n",
      "| 376|     2011|Cotton(lint)|  60|       113|  8589934592|    68719476736|  17179869184|\n",
      "|1147|     2011|Cotton(lint)| 317|       872| 34359738368|   549755813888|  17179869184|\n",
      "|1150|     2013|Cotton(lint)| 190|       594| 34359738368|   549755813888|  17179869184|\n",
      "|1006|     2011|Cotton(lint)|   1|         3| 34359738368|   412316860416|  17179869184|\n",
      "|1009|     2013|Cotton(lint)|   1|         2| 34359738368|   412316860416|  17179869184|\n",
      "| 912|     2011|Cotton(lint)| 156|       429| 34359738368|   326417514496|  17179869184|\n",
      "| 915|     2013|Cotton(lint)| 170|       408| 34359738368|   326417514496|  17179869184|\n",
      "|1166|     2011|Cotton(lint)|1055|      3063| 34359738368|   558345748480|  17179869184|\n",
      "|1169|     2013|Cotton(lint)|2379|      1617| 34359738368|   558345748480|  17179869184|\n",
      "|1269|     2011|Cotton(lint)|4893|     11251| 34359738368|   627065225216|  17179869184|\n",
      "|1272|     2013|Cotton(lint)|5904|     14203| 34359738368|   627065225216|  17179869184|\n",
      "|  17|     2012|Cotton(lint)|  77|        99|           0|              0|  17179869184|\n",
      "|  19|     2013|Cotton(lint)|  62|       127|           0|              0|  17179869184|\n",
      "|  21|     2014|Cotton(lint)| 884|      1244|           0|              0|  17179869184|\n",
      "| 931|     2011|Cotton(lint)|2317|      5476| 34359738368|   343597383680|  17179869184|\n",
      "| 934|     2013|Cotton(lint)|2403|      3853| 34359738368|   343597383680|  17179869184|\n",
      "+----+---------+------------+----+----------+------------+---------------+-------------+\n",
      "only showing top 20 rows\n",
      "\n"
     ]
    }
   ],
   "source": [
    "prod_df_formatted.show()"
   ]
  },
  {
   "cell_type": "code",
   "execution_count": 39,
   "metadata": {},
   "outputs": [
    {
     "name": "stdout",
     "output_type": "stream",
     "text": [
      "+----+---------+------------+-----+----------+------------+---------------+-------------+--------+\n",
      "|  ID|Crop_Year|        Crop| Area|Production|State_Number|District_Number|Season_Number|rainfall|\n",
      "+----+---------+------------+-----+----------+------------+---------------+-------------+--------+\n",
      "| 148|     2012|Cotton(lint)|63206|    195939|           0|   403726925824|   8589934592|   829.6|\n",
      "| 463|     2006|Cotton(lint)|74021|     85558|  8589934592|   163208757248|  34359738368|    null|\n",
      "| 471|     2012|Cotton(lint)|24211|     35040|  8589934592|   163208757248|   8589934592|   384.4|\n",
      "| 496|     2013|Cotton(lint)|32535|     59632|  8589934592|   206158430208|  17179869184|    40.0|\n",
      "| 833|     2004|Cotton(lint)| 3703|      6173| 34359738368|   171798691840|   8589934592|   663.1|\n",
      "|1088|     2010|Cotton(lint)|    5|         9| 34359738368|   515396075520|   8589934592|   443.5|\n",
      "|1238|     2000|Cotton(lint)|11442|     23259| 34359738368|   618475290624|   8589934592|   472.0|\n",
      "| 243|     2012|Cotton(lint)| 6425|     21732|           0|   661424963584|   8589934592|   829.6|\n",
      "| 392|     2001|Cotton(lint)| 1537|      1271|  8589934592|    85899345920|   8589934592|   632.8|\n",
      "| 540|     2005|Cotton(lint)|59771|     96519|  8589934592|   240518168576|  34359738368|    null|\n",
      "| 623|     2010|Cotton(lint)|  280|       657|  8589934592|   420906795008|  17179869184|   101.2|\n",
      "| 737|     2011|Cotton(lint)|  190|       179| 25769803776|   472446402560|   8589934592|   950.2|\n",
      "| 858|     2010|Cotton(lint)| 1347|      4552| 34359738368|   197568495616|   8589934592|   443.5|\n",
      "| 897|     2009|Cotton(lint)|   74|       193| 34359738368|   283467841536|  34359738368|    null|\n",
      "|1025|     2011|Cotton(lint)| 2040|      4369| 34359738368|   438086664192|  17179869184|   386.5|\n",
      "|1084|     2000|Cotton(lint)|    5|         5| 34359738368|   515396075520|   8589934592|   472.0|\n",
      "|1127|     2009|Cotton(lint)|  469|       996| 34359738368|   541165879296|  34359738368|    null|\n",
      "|  31|     2012|Cotton(lint)|  226|       288|           0|   103079215104|  17179869184|   354.0|\n",
      "| 516|     1998|Cotton(lint)| 5225|      5688|  8589934592|   231928233984|   8589934592|   808.6|\n",
      "|1139|     2004|Cotton(lint)| 2715|      3812| 34359738368|   549755813888|   8589934592|   663.1|\n",
      "+----+---------+------------+-----+----------+------------+---------------+-------------+--------+\n",
      "only showing top 20 rows\n",
      "\n"
     ]
    }
   ],
   "source": [
    "target_df = prod_df_formatted.join(rain_df_formatted, \"ID\", \"outer\")\n",
    "target_df.show()"
   ]
  },
  {
   "cell_type": "code",
   "execution_count": 40,
   "metadata": {},
   "outputs": [
    {
     "name": "stdout",
     "output_type": "stream",
     "text": [
      "+----+------------+---------------+---------+-------------+----+----------+--------+\n",
      "|  ID|State_Number|District_Number|Crop_Year|Season_Number|Area|Production|rainfall|\n",
      "+----+------------+---------------+---------+-------------+----+----------+--------+\n",
      "|1272| 34359738368|   627065225216|     2013|  17179869184|5904|     14203|   250.6|\n",
      "+----+------------+---------------+---------+-------------+----+----------+--------+\n",
      "\n"
     ]
    }
   ],
   "source": [
    "target_df.filter( (target_df['ID'] == 1272) ).select('ID', 'State_Number', 'District_Number', 'Crop_Year','Season_Number', 'Area', 'Production', 'rainfall').show()"
   ]
  },
  {
   "cell_type": "code",
   "execution_count": 41,
   "metadata": {},
   "outputs": [
    {
     "name": "stdout",
     "output_type": "stream",
     "text": [
      "+---+---------+----+----------+------------+---------------+-------------+\n",
      "| ID|Crop_Year|Area|Production|State_Number|District_Number|Season_Number|\n",
      "+---+---------+----+----------+------------+---------------+-------------+\n",
      "|382|     2010| 134|       291|  8589934592|    77309411328|  17179869184|\n",
      "|384|     2011|  60|       113|  8589934592|    77309411328|  17179869184|\n",
      "| 72|     2014|  22|       115|           0|   223338299392|  17179869184|\n",
      "|374|     2010|  45|        98|  8589934592|    68719476736|  17179869184|\n",
      "|376|     2011|  60|       113|  8589934592|    68719476736|  17179869184|\n",
      "+---+---------+----+----------+------------+---------------+-------------+\n",
      "only showing top 5 rows\n",
      "\n"
     ]
    }
   ],
   "source": [
    "prod_df_format = prod_df_formatted.drop(\"Crop\")\n",
    "prod_df_format.show(5, True)"
   ]
  },
  {
   "cell_type": "code",
   "execution_count": 42,
   "metadata": {},
   "outputs": [
    {
     "name": "stdout",
     "output_type": "stream",
     "text": [
      "+----+---------+------------+-----+----------+------------+---------------+-------------+--------+\n",
      "|  ID|Crop_Year|        Crop| Area|Production|State_Number|District_Number|Season_Number|rainfall|\n",
      "+----+---------+------------+-----+----------+------------+---------------+-------------+--------+\n",
      "| 463|     2006|Cotton(lint)|74021|     85558|  8589934592|   163208757248|  34359738368|    null|\n",
      "| 540|     2005|Cotton(lint)|59771|     96519|  8589934592|   240518168576|  34359738368|    null|\n",
      "| 897|     2009|Cotton(lint)|   74|       193| 34359738368|   283467841536|  34359738368|    null|\n",
      "|1127|     2009|Cotton(lint)|  469|       996| 34359738368|   541165879296|  34359738368|    null|\n",
      "|1143|     2008|Cotton(lint)|10976|      5338| 34359738368|   549755813888|  34359738368|    null|\n",
      "+----+---------+------------+-----+----------+------------+---------------+-------------+--------+\n",
      "only showing top 5 rows\n",
      "\n"
     ]
    }
   ],
   "source": [
    "target_df.filter((col(\"rainfall\").isNull())).show(5, True)"
   ]
  },
  {
   "cell_type": "code",
   "execution_count": 43,
   "metadata": {},
   "outputs": [
    {
     "data": {
      "text/plain": [
       "1048542"
      ]
     },
     "execution_count": 43,
     "metadata": {},
     "output_type": "execute_result"
    }
   ],
   "source": [
    "target_df.count()"
   ]
  },
  {
   "cell_type": "code",
   "execution_count": 44,
   "metadata": {},
   "outputs": [],
   "source": [
    "non_null_target_df = target_df.na.drop()"
   ]
  },
  {
   "cell_type": "code",
   "execution_count": 45,
   "metadata": {},
   "outputs": [
    {
     "data": {
      "text/plain": [
       "1032"
      ]
     },
     "execution_count": 45,
     "metadata": {},
     "output_type": "execute_result"
    }
   ],
   "source": [
    "non_null_target_df.count()"
   ]
  },
  {
   "cell_type": "code",
   "execution_count": 46,
   "metadata": {},
   "outputs": [],
   "source": [
    "column_to_drop = ['ID', 'Crop']\n",
    "new_df = non_null_target_df.drop(*column_to_drop)"
   ]
  },
  {
   "cell_type": "code",
   "execution_count": 47,
   "metadata": {},
   "outputs": [
    {
     "name": "stdout",
     "output_type": "stream",
     "text": [
      "+---------+-----+----------+------------+---------------+-------------+--------+\n",
      "|Crop_Year| Area|Production|State_Number|District_Number|Season_Number|rainfall|\n",
      "+---------+-----+----------+------------+---------------+-------------+--------+\n",
      "|     2012|63206|    195939|           0|   403726925824|   8589934592|   829.6|\n",
      "|     2012|24211|     35040|  8589934592|   163208757248|   8589934592|   384.4|\n",
      "|     2013|32535|     59632|  8589934592|   206158430208|  17179869184|    40.0|\n",
      "|     2004| 3703|      6173| 34359738368|   171798691840|   8589934592|   663.1|\n",
      "|     2010|    5|         9| 34359738368|   515396075520|   8589934592|   443.5|\n",
      "+---------+-----+----------+------------+---------------+-------------+--------+\n",
      "only showing top 5 rows\n",
      "\n"
     ]
    }
   ],
   "source": [
    "new_df.show(5, True)"
   ]
  },
  {
   "cell_type": "code",
   "execution_count": 48,
   "metadata": {},
   "outputs": [],
   "source": [
    "prod_df_format_new = prod_df_format.withColumn(\"tonnes_per_hectare\", expr(\"(Production/Area)*10\"))"
   ]
  },
  {
   "cell_type": "code",
   "execution_count": 49,
   "metadata": {},
   "outputs": [
    {
     "name": "stdout",
     "output_type": "stream",
     "text": [
      "+---+---------+----+----------+------------+---------------+-------------+------------------+\n",
      "| ID|Crop_Year|Area|Production|State_Number|District_Number|Season_Number|tonnes_per_hectare|\n",
      "+---+---------+----+----------+------------+---------------+-------------+------------------+\n",
      "|382|     2010| 134|       291|  8589934592|    77309411328|  17179869184| 21.71641791044776|\n",
      "|384|     2011|  60|       113|  8589934592|    77309411328|  17179869184|18.833333333333332|\n",
      "| 72|     2014|  22|       115|           0|   223338299392|  17179869184| 52.27272727272727|\n",
      "|374|     2010|  45|        98|  8589934592|    68719476736|  17179869184|21.777777777777775|\n",
      "|376|     2011|  60|       113|  8589934592|    68719476736|  17179869184|18.833333333333332|\n",
      "+---+---------+----+----------+------------+---------------+-------------+------------------+\n",
      "only showing top 5 rows\n",
      "\n"
     ]
    }
   ],
   "source": [
    "prod_df_format_new.show(5, True)"
   ]
  },
  {
   "cell_type": "code",
   "execution_count": 50,
   "metadata": {},
   "outputs": [
    {
     "name": "stdout",
     "output_type": "stream",
     "text": [
      "+------------+\n",
      "|State_Number|\n",
      "+------------+\n",
      "| 34359738368|\n",
      "+------------+\n",
      "\n"
     ]
    }
   ],
   "source": [
    "prod_df_format_new.filter( (prod_df_format_new['tonnes_per_hectare'] > 60) ).select('State_Number').distinct().show()"
   ]
  },
  {
   "cell_type": "code",
   "execution_count": 51,
   "metadata": {},
   "outputs": [
    {
     "name": "stdout",
     "output_type": "stream",
     "text": [
      "+---+---------+----+----------+------------+---------------+-------------+\n",
      "| ID|Crop_Year|Area|Production|State_Number|District_Number|Season_Number|\n",
      "+---+---------+----+----------+------------+---------------+-------------+\n",
      "|382|     2010| 134|       291|  8589934592|    77309411328|  17179869184|\n",
      "|384|     2011|  60|       113|  8589934592|    77309411328|  17179869184|\n",
      "| 72|     2014|  22|       115|           0|   223338299392|  17179869184|\n",
      "|374|     2010|  45|        98|  8589934592|    68719476736|  17179869184|\n",
      "|376|     2011|  60|       113|  8589934592|    68719476736|  17179869184|\n",
      "+---+---------+----+----------+------------+---------------+-------------+\n",
      "only showing top 5 rows\n",
      "\n"
     ]
    }
   ],
   "source": [
    "prod_df_drop = prod_df_format_new.drop(\"tonnes_per_hectare\")\n",
    "prod_df_drop.show(5, True)"
   ]
  },
  {
   "cell_type": "code",
   "execution_count": 52,
   "metadata": {},
   "outputs": [],
   "source": [
    "new_df.toPandas().to_csv('mycsvv.csv')"
   ]
  },
  {
   "cell_type": "code",
   "execution_count": 53,
   "metadata": {},
   "outputs": [
    {
     "data": {
      "text/plain": [
       "1032"
      ]
     },
     "execution_count": 53,
     "metadata": {},
     "output_type": "execute_result"
    }
   ],
   "source": [
    "new_df.dropDuplicates().count()"
   ]
  },
  {
   "cell_type": "code",
   "execution_count": 54,
   "metadata": {},
   "outputs": [
    {
     "name": "stdout",
     "output_type": "stream",
     "text": [
      "+-------+------------------+------------------+------------------+--------------------+--------------------+--------------------+-----------------+\n",
      "|summary|         Crop_Year|              Area|        Production|        State_Number|     District_Number|       Season_Number|         rainfall|\n",
      "+-------+------------------+------------------+------------------+--------------------+--------------------+--------------------+-----------------+\n",
      "|  count|              1032|              1032|              1032|                1032|                1032|                1032|             1032|\n",
      "|   mean|2006.4176356589148|15504.880813953489|32031.662790697676|1.689686746294573...|3.329515248203410...|1.014644405779845E10|  559.10867248062|\n",
      "| stddev|5.5566039764171595|30288.195652336886| 86824.12243110091|1.434899175642823...|2.009121454146099E11| 3.905420930052156E9|361.4478358835067|\n",
      "|    min|              1997|                 1|                 1|                   0|                   0|                   0|             40.0|\n",
      "|    max|              2014|            306058|           1075856|         34359738368|        670014898176|         42949672960|           2882.1|\n",
      "+-------+------------------+------------------+------------------+--------------------+--------------------+--------------------+-----------------+\n",
      "\n"
     ]
    }
   ],
   "source": [
    "new_df.describe().show()"
   ]
  },
  {
   "cell_type": "code",
   "execution_count": 55,
   "metadata": {},
   "outputs": [
    {
     "data": {
      "text/plain": [
       "2323474799.939403"
      ]
     },
     "execution_count": 55,
     "metadata": {},
     "output_type": "execute_result"
    }
   ],
   "source": [
    "new_df.stat.cov('Production', 'Area')"
   ]
  },
  {
   "cell_type": "code",
   "execution_count": 56,
   "metadata": {},
   "outputs": [
    {
     "data": {
      "text/plain": [
       "1027422.2129175805"
      ]
     },
     "execution_count": 56,
     "metadata": {},
     "output_type": "execute_result"
    }
   ],
   "source": [
    "new_df.stat.cov('Production', 'rainfall')"
   ]
  },
  {
   "cell_type": "code",
   "execution_count": 57,
   "metadata": {},
   "outputs": [
    {
     "data": {
      "text/plain": [
       "38812.61429409277"
      ]
     },
     "execution_count": 57,
     "metadata": {},
     "output_type": "execute_result"
    }
   ],
   "source": [
    "new_df.stat.cov('Production', 'Crop_Year')"
   ]
  },
  {
   "cell_type": "code",
   "execution_count": 58,
   "metadata": {},
   "outputs": [
    {
     "data": {
      "text/plain": [
       "7538428235.930799"
      ]
     },
     "execution_count": 58,
     "metadata": {},
     "output_type": "execute_result"
    }
   ],
   "source": [
    "new_df.stat.cov('Production', 'Production')"
   ]
  },
  {
   "cell_type": "code",
   "execution_count": 59,
   "metadata": {},
   "outputs": [
    {
     "data": {
      "text/plain": [
       "0.8835358218175439"
      ]
     },
     "execution_count": 59,
     "metadata": {},
     "output_type": "execute_result"
    }
   ],
   "source": [
    "new_df.stat.corr('Production', 'Area')"
   ]
  },
  {
   "cell_type": "code",
   "execution_count": 60,
   "metadata": {},
   "outputs": [
    {
     "data": {
      "text/plain": [
       "0.0327388122796736"
      ]
     },
     "execution_count": 60,
     "metadata": {},
     "output_type": "execute_result"
    }
   ],
   "source": [
    "new_df.stat.corr('Production', 'rainfall')"
   ]
  },
  {
   "cell_type": "code",
   "execution_count": 61,
   "metadata": {},
   "outputs": [
    {
     "data": {
      "text/plain": [
       "0.08044944431097117"
      ]
     },
     "execution_count": 61,
     "metadata": {},
     "output_type": "execute_result"
    }
   ],
   "source": [
    "new_df.stat.corr('Production', 'Crop_Year')"
   ]
  },
  {
   "cell_type": "code",
   "execution_count": 62,
   "metadata": {},
   "outputs": [
    {
     "data": {
      "text/plain": [
       "1.0"
      ]
     },
     "execution_count": 62,
     "metadata": {},
     "output_type": "execute_result"
    }
   ],
   "source": [
    "new_df.stat.corr('Production', 'Production')"
   ]
  },
  {
   "cell_type": "code",
   "execution_count": 63,
   "metadata": {},
   "outputs": [
    {
     "name": "stdout",
     "output_type": "stream",
     "text": [
      "+---------+-----+----------+------------+---------------+-------------+--------+\n",
      "|Crop_Year| Area|Production|State_Number|District_Number|Season_Number|rainfall|\n",
      "+---------+-----+----------+------------+---------------+-------------+--------+\n",
      "|     2012|63206|    195939|           0|   403726925824|   8589934592|   829.6|\n",
      "|     2012|24211|     35040|  8589934592|   163208757248|   8589934592|   384.4|\n",
      "|     2013|32535|     59632|  8589934592|   206158430208|  17179869184|    40.0|\n",
      "|     2004| 3703|      6173| 34359738368|   171798691840|   8589934592|   663.1|\n",
      "|     2010|    5|         9| 34359738368|   515396075520|   8589934592|   443.5|\n",
      "|     2000|11442|     23259| 34359738368|   618475290624|   8589934592|   472.0|\n",
      "|     2012| 6425|     21732|           0|   661424963584|   8589934592|   829.6|\n",
      "|     2001| 1537|      1271|  8589934592|    85899345920|   8589934592|   632.8|\n",
      "|     2010|  280|       657|  8589934592|   420906795008|  17179869184|   101.2|\n",
      "|     2011|  190|       179| 25769803776|   472446402560|   8589934592|   950.2|\n",
      "|     2010| 1347|      4552| 34359738368|   197568495616|   8589934592|   443.5|\n",
      "|     2011| 2040|      4369| 34359738368|   438086664192|  17179869184|   386.5|\n",
      "|     2000|    5|         5| 34359738368|   515396075520|   8589934592|   472.0|\n",
      "|     2012|  226|       288|           0|   103079215104|  17179869184|   354.0|\n",
      "|     1998| 5225|      5688|  8589934592|   231928233984|   8589934592|   808.6|\n",
      "|     2004| 2715|      3812| 34359738368|   549755813888|   8589934592|   663.1|\n",
      "|     2012| 8209|     11859| 34359738368|   627065225216|   8589934592|   464.6|\n",
      "|     2009|12614|     17882|           0|   257698037760|   8589934592|   548.9|\n",
      "|     2001|37624|     62633|           0|   403726925824|   8589934592|   676.9|\n",
      "|     2003| 3226|      6374|  8589934592|    17179869184|   8589934592|   354.8|\n",
      "+---------+-----+----------+------------+---------------+-------------+--------+\n",
      "only showing top 20 rows\n",
      "\n"
     ]
    }
   ],
   "source": [
    "new_df.show()"
   ]
  },
  {
   "cell_type": "code",
   "execution_count": 64,
   "metadata": {},
   "outputs": [
    {
     "name": "stdout",
     "output_type": "stream",
     "text": [
      "root\n",
      " |-- Crop_Year: integer (nullable = true)\n",
      " |-- Area: integer (nullable = true)\n",
      " |-- Production: integer (nullable = true)\n",
      " |-- State_Number: long (nullable = true)\n",
      " |-- District_Number: long (nullable = true)\n",
      " |-- Season_Number: long (nullable = true)\n",
      " |-- rainfall: double (nullable = true)\n",
      "\n"
     ]
    }
   ],
   "source": [
    "new_df.printSchema()"
   ]
  },
  {
   "cell_type": "code",
   "execution_count": 65,
   "metadata": {},
   "outputs": [],
   "source": [
    "assembler = VectorAssembler(\n",
    "    inputCols=[\"Crop_Year\", \"Area\", \"State_Number\", \"District_Number\", \n",
    "               \"Season_Number\",\"rainfall\"],\n",
    "    outputCol=\"features\")"
   ]
  },
  {
   "cell_type": "code",
   "execution_count": 66,
   "metadata": {},
   "outputs": [],
   "source": [
    "output = assembler.transform(new_df)"
   ]
  },
  {
   "cell_type": "code",
   "execution_count": 67,
   "metadata": {},
   "outputs": [
    {
     "name": "stdout",
     "output_type": "stream",
     "text": [
      "root\n",
      " |-- Crop_Year: integer (nullable = true)\n",
      " |-- Area: integer (nullable = true)\n",
      " |-- Production: integer (nullable = true)\n",
      " |-- State_Number: long (nullable = true)\n",
      " |-- District_Number: long (nullable = true)\n",
      " |-- Season_Number: long (nullable = true)\n",
      " |-- rainfall: double (nullable = true)\n",
      " |-- features: vector (nullable = true)\n",
      "\n"
     ]
    }
   ],
   "source": [
    "output.printSchema()"
   ]
  },
  {
   "cell_type": "code",
   "execution_count": 68,
   "metadata": {},
   "outputs": [
    {
     "name": "stdout",
     "output_type": "stream",
     "text": [
      "+--------------------+----------+\n",
      "|            features|Production|\n",
      "+--------------------+----------+\n",
      "|[2012.0,63206.0,0...|    195939|\n",
      "|[2012.0,24211.0,8...|     35040|\n",
      "|[2013.0,32535.0,8...|     59632|\n",
      "|[2004.0,3703.0,3....|      6173|\n",
      "|[2010.0,5.0,3.435...|         9|\n",
      "|[2000.0,11442.0,3...|     23259|\n",
      "|[2012.0,6425.0,0....|     21732|\n",
      "|[2001.0,1537.0,8....|      1271|\n",
      "|[2010.0,280.0,8.5...|       657|\n",
      "|[2011.0,190.0,2.5...|       179|\n",
      "|[2010.0,1347.0,3....|      4552|\n",
      "|[2011.0,2040.0,3....|      4369|\n",
      "|[2000.0,5.0,3.435...|         5|\n",
      "|[2012.0,226.0,0.0...|       288|\n",
      "|[1998.0,5225.0,8....|      5688|\n",
      "|[2004.0,2715.0,3....|      3812|\n",
      "|[2012.0,8209.0,3....|     11859|\n",
      "|[2009.0,12614.0,0...|     17882|\n",
      "|[2001.0,37624.0,0...|     62633|\n",
      "|[2003.0,3226.0,8....|      6374|\n",
      "+--------------------+----------+\n",
      "only showing top 20 rows\n",
      "\n"
     ]
    }
   ],
   "source": [
    "final_data = output.select(\"features\",'Production')\n",
    "final_data.show()"
   ]
  },
  {
   "cell_type": "code",
   "execution_count": 69,
   "metadata": {},
   "outputs": [],
   "source": [
    "train_data,test_data = final_data.randomSplit([0.7,0.3])"
   ]
  },
  {
   "cell_type": "code",
   "execution_count": 70,
   "metadata": {},
   "outputs": [
    {
     "name": "stdout",
     "output_type": "stream",
     "text": [
      "+-------+-----------------+\n",
      "|summary|       Production|\n",
      "+-------+-----------------+\n",
      "|  count|              721|\n",
      "|   mean|33963.49375866852|\n",
      "| stddev|91521.99458654903|\n",
      "|    min|                1|\n",
      "|    max|          1075856|\n",
      "+-------+-----------------+\n",
      "\n",
      "+-------+-----------------+\n",
      "|summary|       Production|\n",
      "+-------+-----------------+\n",
      "|  count|              311|\n",
      "|   mean|27553.04501607717|\n",
      "| stddev|74752.76155997936|\n",
      "|    min|                2|\n",
      "|    max|           809620|\n",
      "+-------+-----------------+\n",
      "\n"
     ]
    }
   ],
   "source": [
    "train_data.describe().show()\n",
    "\n",
    "\n",
    "test_data.describe().show()"
   ]
  },
  {
   "cell_type": "code",
   "execution_count": 71,
   "metadata": {},
   "outputs": [],
   "source": [
    "lr = LinearRegression(labelCol='Production')"
   ]
  },
  {
   "cell_type": "code",
   "execution_count": 72,
   "metadata": {},
   "outputs": [],
   "source": [
    "lrModel = lr.fit(train_data)"
   ]
  },
  {
   "cell_type": "code",
   "execution_count": 73,
   "metadata": {},
   "outputs": [
    {
     "name": "stdout",
     "output_type": "stream",
     "text": [
      "Coefficients: [2156.3627634602885,2.5822994007541653,2.0907270167209953e-07,1.3675810851529412e-08,-4.973008416789077e-07,1.6706506031516337] Intercept: -4338412.386963765\n"
     ]
    }
   ],
   "source": [
    "print(\"Coefficients: {} Intercept: {}\".format(lrModel.coefficients,lrModel.intercept))"
   ]
  },
  {
   "cell_type": "code",
   "execution_count": 74,
   "metadata": {},
   "outputs": [],
   "source": [
    "test_results = lrModel.evaluate(test_data)"
   ]
  },
  {
   "cell_type": "code",
   "execution_count": 75,
   "metadata": {},
   "outputs": [
    {
     "name": "stdout",
     "output_type": "stream",
     "text": [
      "+-------------------+\n",
      "|          residuals|\n",
      "+-------------------+\n",
      "|   7240.59049737826|\n",
      "|-22867.534033630043|\n",
      "| -4209.037870805711|\n",
      "|  20148.23733459972|\n",
      "| 2324.3995493128896|\n",
      "|-21792.300207751803|\n",
      "|  7835.923187342472|\n",
      "| -8580.997503784485|\n",
      "|  7004.010351749137|\n",
      "| -76657.53670782503|\n",
      "|-3463.0038948869333|\n",
      "|-13373.301742211916|\n",
      "|  8657.069320950657|\n",
      "|  4563.376616310328|\n",
      "| -7526.470204456709|\n",
      "|  25002.22180551663|\n",
      "| -53878.96629600972|\n",
      "| 5536.5452800393105|\n",
      "|  9060.760330503806|\n",
      "| 13336.751443934627|\n",
      "+-------------------+\n",
      "only showing top 20 rows\n",
      "\n"
     ]
    }
   ],
   "source": [
    "test_results.residuals.show()"
   ]
  },
  {
   "cell_type": "code",
   "execution_count": 76,
   "metadata": {},
   "outputs": [
    {
     "name": "stdout",
     "output_type": "stream",
     "text": [
      "RSME: 26802.787150968386\n"
     ]
    }
   ],
   "source": [
    "print(\"RSME: {}\".format(test_results.rootMeanSquaredError))"
   ]
  },
  {
   "cell_type": "code",
   "execution_count": 77,
   "metadata": {},
   "outputs": [
    {
     "name": "stdout",
     "output_type": "stream",
     "text": [
      "R2: 0.8710254183888111\n"
     ]
    }
   ],
   "source": [
    "print(\"R2: {}\".format(test_results.r2))"
   ]
  },
  {
   "cell_type": "code",
   "execution_count": 78,
   "metadata": {},
   "outputs": [
    {
     "name": "stdout",
     "output_type": "stream",
     "text": [
      "+-------+------------------+\n",
      "|summary|        Production|\n",
      "+-------+------------------+\n",
      "|  count|              1032|\n",
      "|   mean|32031.662790697676|\n",
      "| stddev| 86824.12243110091|\n",
      "|    min|                 1|\n",
      "|    max|           1075856|\n",
      "+-------+------------------+\n",
      "\n"
     ]
    }
   ],
   "source": [
    "final_data.describe().show()"
   ]
  },
  {
   "cell_type": "code",
   "execution_count": 88,
   "metadata": {},
   "outputs": [
    {
     "data": {
      "image/png": "[encoded data removed]",
      "text/plain": [
       "<Figure size 432x288 with 1 Axes>"
      ]
     },
     "metadata": {},
     "output_type": "display_data"
    },
    {
     "data": {
      "image/png": "[encoded data removed]",
      "text/plain": [
       "<Figure size 432x288 with 1 Axes>"
      ]
     },
     "metadata": {},
     "output_type": "display_data"
    }
   ],
   "source": [
    "import numpy as np\n",
    "import matplotlib.pyplot as plt\n",
    "%matplotlib inline\n",
    "\n",
    "# Convert area to an array using Numpy and plot it using pyplot. \n",
    "areaArr = np.array(new_df.select('Area').collect())\n",
    "plt.hist(areaArr)\n",
    "plt.show()\n",
    "\n",
    "# Because you can interact with Spark using SQL, you can also filter the data you see. \n",
    "# For example, age has some null values. We can remove all null values before visualising the data.\n",
    "prodArr = np.array(new_df.filter('Crop_Year > 1997').select('Production').collect())\n",
    "plt.hist(prodArr)\n",
    "plt.show()"
   ]
  },
  {
   "cell_type": "code",
   "execution_count": null,
   "metadata": {},
   "outputs": [],
   "source": []
  }
 ],
 "metadata": {
  "kernelspec": {
   "display_name": "Python 3",
   "language": "python",
   "name": "python3"
  },
  "language_info": {
   "codemirror_mode": {
    "name": "ipython",
    "version": 3
   },
   "file_extension": ".py",
   "mimetype": "text/x-python",
   "name": "python",
   "nbconvert_exporter": "python",
   "pygments_lexer": "ipython3",
   "version": "3.5.2"
  }
 },
 "nbformat": 4,
 "nbformat_minor": 2
}
